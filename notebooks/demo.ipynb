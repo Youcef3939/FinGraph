{
 "cells": [
  {
   "cell_type": "markdown",
   "id": "e4de9526",
   "metadata": {},
   "source": [
    "# FinGraph Demo\n",
    "\n",
    "welcome to **FinGraph**, a financial knowledge graph project for analyzing systemic risk and contagion in financial networks\n",
    "\n",
    "in this demo, you will:\n",
    "\n",
    "- load company and supply-chain data  \n",
    "- build a network graph representing companies and their relationships  \n",
    "- compute centrality metrics and detect communities  \n",
    "- simulate financial contagion through the network  \n",
    "- visualize the graph interactively with risk-colored nodes"
   ]
  },
  {
   "cell_type": "code",
   "execution_count": null,
   "id": "fc222dc0",
   "metadata": {},
   "outputs": [
    {
     "name": "stdout",
     "output_type": "stream",
     "text": [
      "Requirement already satisfied: pandas in c:\\users\\youce\\desktop\\fingraph\\venv\\lib\\site-packages (2.3.2)\n",
      "Requirement already satisfied: numpy in c:\\users\\youce\\desktop\\fingraph\\venv\\lib\\site-packages (2.2.6)\n",
      "Requirement already satisfied: networkx in c:\\users\\youce\\desktop\\fingraph\\venv\\lib\\site-packages (3.4.2)\n",
      "Requirement already satisfied: pyvis in c:\\users\\youce\\desktop\\fingraph\\venv\\lib\\site-packages (0.3.2)\n",
      "Requirement already satisfied: python-louvain in c:\\users\\youce\\desktop\\fingraph\\venv\\lib\\site-packages (0.16)\n",
      "Requirement already satisfied: matplotlib in c:\\users\\youce\\desktop\\fingraph\\venv\\lib\\site-packages (3.10.6)\n",
      "Requirement already satisfied: seaborn in c:\\users\\youce\\desktop\\fingraph\\venv\\lib\\site-packages (0.13.2)\n",
      "Requirement already satisfied: scipy in c:\\users\\youce\\desktop\\fingraph\\venv\\lib\\site-packages (1.15.3)\n",
      "Requirement already satisfied: python-dateutil>=2.8.2 in c:\\users\\youce\\desktop\\fingraph\\venv\\lib\\site-packages (from pandas) (2.9.0.post0)\n",
      "Requirement already satisfied: tzdata>=2022.7 in c:\\users\\youce\\desktop\\fingraph\\venv\\lib\\site-packages (from pandas) (2025.2)\n",
      "Requirement already satisfied: pytz>=2020.1 in c:\\users\\youce\\desktop\\fingraph\\venv\\lib\\site-packages (from pandas) (2025.2)\n",
      "Requirement already satisfied: jsonpickle>=1.4.1 in c:\\users\\youce\\desktop\\fingraph\\venv\\lib\\site-packages (from pyvis) (4.1.1)\n",
      "Requirement already satisfied: jinja2>=2.9.6 in c:\\users\\youce\\desktop\\fingraph\\venv\\lib\\site-packages (from pyvis) (3.1.6)\n",
      "Requirement already satisfied: ipython>=5.3.0 in c:\\users\\youce\\desktop\\fingraph\\venv\\lib\\site-packages (from pyvis) (8.37.0)\n",
      "Requirement already satisfied: contourpy>=1.0.1 in c:\\users\\youce\\desktop\\fingraph\\venv\\lib\\site-packages (from matplotlib) (1.3.2)\n",
      "Requirement already satisfied: cycler>=0.10 in c:\\users\\youce\\desktop\\fingraph\\venv\\lib\\site-packages (from matplotlib) (0.12.1)\n",
      "Requirement already satisfied: packaging>=20.0 in c:\\users\\youce\\desktop\\fingraph\\venv\\lib\\site-packages (from matplotlib) (25.0)\n",
      "Requirement already satisfied: kiwisolver>=1.3.1 in c:\\users\\youce\\desktop\\fingraph\\venv\\lib\\site-packages (from matplotlib) (1.4.9)\n",
      "Requirement already satisfied: pillow>=8 in c:\\users\\youce\\desktop\\fingraph\\venv\\lib\\site-packages (from matplotlib) (11.3.0)\n",
      "Requirement already satisfied: pyparsing>=2.3.1 in c:\\users\\youce\\desktop\\fingraph\\venv\\lib\\site-packages (from matplotlib) (3.2.3)\n",
      "Requirement already satisfied: fonttools>=4.22.0 in c:\\users\\youce\\desktop\\fingraph\\venv\\lib\\site-packages (from matplotlib) (4.59.2)\n",
      "Requirement already satisfied: pygments>=2.4.0 in c:\\users\\youce\\desktop\\fingraph\\venv\\lib\\site-packages (from ipython>=5.3.0->pyvis) (2.19.2)\n",
      "Requirement already satisfied: decorator in c:\\users\\youce\\desktop\\fingraph\\venv\\lib\\site-packages (from ipython>=5.3.0->pyvis) (5.2.1)\n",
      "Requirement already satisfied: colorama in c:\\users\\youce\\desktop\\fingraph\\venv\\lib\\site-packages (from ipython>=5.3.0->pyvis) (0.4.6)\n",
      "Requirement already satisfied: prompt_toolkit<3.1.0,>=3.0.41 in c:\\users\\youce\\desktop\\fingraph\\venv\\lib\\site-packages (from ipython>=5.3.0->pyvis) (3.0.52)\n",
      "Requirement already satisfied: typing_extensions>=4.6 in c:\\users\\youce\\desktop\\fingraph\\venv\\lib\\site-packages (from ipython>=5.3.0->pyvis) (4.15.0)\n",
      "Requirement already satisfied: traitlets>=5.13.0 in c:\\users\\youce\\desktop\\fingraph\\venv\\lib\\site-packages (from ipython>=5.3.0->pyvis) (5.14.3)\n",
      "Requirement already satisfied: exceptiongroup in c:\\users\\youce\\desktop\\fingraph\\venv\\lib\\site-packages (from ipython>=5.3.0->pyvis) (1.3.0)\n",
      "Requirement already satisfied: jedi>=0.16 in c:\\users\\youce\\desktop\\fingraph\\venv\\lib\\site-packages (from ipython>=5.3.0->pyvis) (0.19.2)\n",
      "Requirement already satisfied: stack_data in c:\\users\\youce\\desktop\\fingraph\\venv\\lib\\site-packages (from ipython>=5.3.0->pyvis) (0.6.3)\n",
      "Requirement already satisfied: matplotlib-inline in c:\\users\\youce\\desktop\\fingraph\\venv\\lib\\site-packages (from ipython>=5.3.0->pyvis) (0.1.7)\n",
      "Requirement already satisfied: parso<0.9.0,>=0.8.4 in c:\\users\\youce\\desktop\\fingraph\\venv\\lib\\site-packages (from jedi>=0.16->ipython>=5.3.0->pyvis) (0.8.5)\n",
      "Requirement already satisfied: MarkupSafe>=2.0 in c:\\users\\youce\\desktop\\fingraph\\venv\\lib\\site-packages (from jinja2>=2.9.6->pyvis) (3.0.2)\n",
      "Requirement already satisfied: wcwidth in c:\\users\\youce\\desktop\\fingraph\\venv\\lib\\site-packages (from prompt_toolkit<3.1.0,>=3.0.41->ipython>=5.3.0->pyvis) (0.2.13)\n",
      "Requirement already satisfied: six>=1.5 in c:\\users\\youce\\desktop\\fingraph\\venv\\lib\\site-packages (from python-dateutil>=2.8.2->pandas) (1.17.0)\n",
      "Requirement already satisfied: asttokens>=2.1.0 in c:\\users\\youce\\desktop\\fingraph\\venv\\lib\\site-packages (from stack_data->ipython>=5.3.0->pyvis) (3.0.0)\n",
      "Requirement already satisfied: pure-eval in c:\\users\\youce\\desktop\\fingraph\\venv\\lib\\site-packages (from stack_data->ipython>=5.3.0->pyvis) (0.2.3)\n",
      "Requirement already satisfied: executing>=1.2.0 in c:\\users\\youce\\desktop\\fingraph\\venv\\lib\\site-packages (from stack_data->ipython>=5.3.0->pyvis) (2.2.1)\n"
     ]
    },
    {
     "name": "stderr",
     "output_type": "stream",
     "text": [
      "WARNING: You are using pip version 21.2.3; however, version 25.2 is available.\n",
      "You should consider upgrading via the 'C:\\Users\\youce\\Desktop\\FinGraph\\venv\\Scripts\\python.exe -m pip install --upgrade pip' command.\n"
     ]
    }
   ],
   "source": [
    "!pip install pandas numpy networkx pyvis python-louvain matplotlib seaborn scipy etl"
   ]
  },
  {
   "cell_type": "code",
   "execution_count": null,
   "id": "dbe4f70d",
   "metadata": {},
   "outputs": [],
   "source": [
    "import importlib.util\n",
    "import sys\n",
    "from pathlib import Path\n",
    "\n",
    "src_path = Path('../src/etl.py').resolve()\n",
    "\n",
    "spec = importlib.util.spec_from_file_location(\"etl_local\", src_path)\n",
    "etl_local = importlib.util.module_from_spec(spec)\n",
    "sys.modules[\"etl_local\"] = etl_local\n",
    "spec.loader.exec_module(etl_local)\n",
    "\n",
    "companies, edges = etl_local.load_data('../data/companies.csv', '../data/supply_edges.csv')\n",
    "G = etl_local.build_graph(companies, edges)"
   ]
  },
  {
   "cell_type": "code",
   "execution_count": null,
   "id": "0f2bf09b",
   "metadata": {},
   "outputs": [],
   "source": [
    "import sys\n",
    "sys.path.append('../src')  \n",
    "\n",
    "from analytics import compute_centrality, detect_communities, attach_metrics\n",
    "from contagion import simulate_contagion\n"
   ]
  },
  {
   "cell_type": "code",
   "execution_count": 26,
   "id": "766e7d7c",
   "metadata": {},
   "outputs": [],
   "source": [
    "import sys\n",
    "from pathlib import Path\n",
    "import importlib.util"
   ]
  },
  {
   "cell_type": "code",
   "execution_count": 19,
   "id": "73fa1fd0",
   "metadata": {},
   "outputs": [],
   "source": [
    "import pandas as pd\n",
    "import numpy as np\n",
    "import networkx as nx"
   ]
  },
  {
   "cell_type": "code",
   "execution_count": 20,
   "id": "9ebf957a",
   "metadata": {},
   "outputs": [],
   "source": [
    "sys.path.append('../src')  "
   ]
  },
  {
   "cell_type": "code",
   "execution_count": 28,
   "id": "019e75e1",
   "metadata": {},
   "outputs": [],
   "source": [
    "src_path = Path('../src/etl.py').resolve()\n",
    "spec = importlib.util.spec_from_file_location(\"etl_local\", src_path)\n",
    "etl_local = importlib.util.module_from_spec(spec)\n",
    "sys.modules[\"etl_local\"] = etl_local\n",
    "spec.loader.exec_module(etl_local)"
   ]
  },
  {
   "cell_type": "code",
   "execution_count": 31,
   "id": "5063ee16",
   "metadata": {},
   "outputs": [],
   "source": [
    "from viz import visualize_graph"
   ]
  },
  {
   "cell_type": "code",
   "execution_count": 32,
   "id": "8e9eaa56",
   "metadata": {},
   "outputs": [
    {
     "name": "stdout",
     "output_type": "stream",
     "text": [
      "✅ Graph built with 6 nodes and 7 edges.\n"
     ]
    }
   ],
   "source": [
    "companies, edges = etl_local.load_data('../data/companies.csv', '../data/supply_edges.csv')\n",
    "\n",
    "G = etl_local.build_graph(companies, edges)\n",
    "\n",
    "print(f\"✅ Graph built with {G.number_of_nodes()} nodes and {G.number_of_edges()} edges.\")"
   ]
  },
  {
   "cell_type": "markdown",
   "id": "76ff7ed1",
   "metadata": {},
   "source": [
    "the nodes represent the companies and the edges represent the connections between them"
   ]
  },
  {
   "cell_type": "code",
   "execution_count": 33,
   "id": "45c5a2c2",
   "metadata": {},
   "outputs": [
    {
     "name": "stdout",
     "output_type": "stream",
     "text": [
      "🏆 Top nodes by PageRank:\n",
      "AAPL (Apple Inc.): 0.3171\n",
      "TSLA (Tesla): 0.3043\n",
      "MSFT (Microsoft): 0.3036\n",
      "JPM (JPMorgan Chase): 0.0250\n",
      "BABA (Alibaba Group): 0.0250\n",
      "TSM (TSMC): 0.0250\n",
      "\n",
      "🌐 Communities detected:\n",
      "Community AAPL: 0\n",
      "Community MSFT: 0\n",
      "Community TSLA: 1\n",
      "Community JPM: 1\n",
      "Community BABA: 0\n",
      "Community TSM: 0\n"
     ]
    }
   ],
   "source": [
    "centrality = compute_centrality(G)\n",
    "communities = detect_communities(G)\n",
    "\n",
    "G = attach_metrics(G, centrality, communities)\n",
    "\n",
    "print(\"🏆 Top nodes by PageRank:\")\n",
    "for node, score in sorted(centrality['pagerank'].items(), key=lambda x: x[1], reverse=True):\n",
    "    print(f\"{node} ({G.nodes[node]['name']}): {score:.4f}\")\n",
    "\n",
    "print(\"\\n🌐 Communities detected:\")\n",
    "for cid, members in communities.items():\n",
    "    print(f\"Community {cid}: {members}\")"
   ]
  },
  {
   "cell_type": "markdown",
   "id": "e9370eeb",
   "metadata": {},
   "source": [
    "now that are our financial knowledge graph is built, we can analyze it using **graph algorithms**:\n",
    "\n",
    "- **centrality:**\n",
    "  it helps us identify the most \"influential\" or systemically important companies in the network\n",
    "   - *pagerank*: measures overall importance in the network\n",
    "   - *betweenness*: highlights companies acting as bridges between clusters\n",
    "   - *degree*: simply counts direct connections\n",
    "\n",
    "- **community detection:**\n",
    "  groups companies into clusters based on their network structure (eg; tech firms together, banks together)\n",
    "  this helps us see sector-level or regional structures that might be hidden in raw data"
   ]
  },
  {
   "cell_type": "code",
   "execution_count": 36,
   "id": "a06d4907",
   "metadata": {},
   "outputs": [
    {
     "name": "stdout",
     "output_type": "stream",
     "text": [
      "Top nodes by simulated risk:\n",
      "MSFT (Microsoft): 1.000\n",
      "TSLA (Tesla): 1.000\n",
      "JPM (JPMorgan Chase): 1.000\n",
      "AAPL (Apple Inc.): 0.500\n",
      "BABA (Alibaba Group): 0.000\n",
      "TSM (TSMC): 0.000\n"
     ]
    }
   ],
   "source": [
    "G = simulate_contagion(G, initial_nodes=['TSLA', 'JPM'], steps=5, decay=0.5)\n",
    "\n",
    "risk_sorted = sorted(G.nodes(data=True), key=lambda x: x[1].get('risk', 0), reverse=True)\n",
    "print(\"Top nodes by simulated risk:\")\n",
    "for node, data in risk_sorted:\n",
    "    print(f\"{node} ({data['name']}): {data.get('risk', 0):.3f}\")\n"
   ]
  },
  {
   "cell_type": "markdown",
   "id": "f9ff6a63",
   "metadata": {},
   "source": [
    "now our graph is here, let's break things down:\n",
    "\n",
    "the simulated risk scores were calculated using a **contagion model** on the financial network:\n",
    "\n",
    "1. **initialization:**\n",
    "\n",
    "selected seed nodes (i selected `TSLA` and `JPM`) start with a risk score of **1.0**\n",
    "\n",
    "2. **propagation:**\n",
    "\n",
    "risk spreads from each node to its direct neighbors along supply-chain connections\n",
    "at each step, the risk decays by a factor (`decay=0.5`) so downstream nodes get lower exposure\n",
    "\n",
    "3. **final scores:**\n",
    "\n",
    "- nodes directly connected to highly risky companies inherit some risk\n",
    "\n",
    "- nodes further away or unconnected remain at **0 risk**\n",
    "\n",
    "\n",
    "each node in the financial network is colored based on its **simulated risk score** from the contagion model simulation\n",
    "\n",
    "- **red nodes** --> `risk>0.66`; high risk, likely to prpagate failures\n",
    "- **yellow nodes** --> `0.33<risk<0.66`; moderate risk, some exposure to contagion\n",
    "- **green nodes** --> `risk<0.33`; low risk, relatively safe in the network\n",
    "\n",
    "this color coding allows you to **quickly identify systemically important companies** and visualize how financial shocks spread across sectors and supply chains"
   ]
  },
  {
   "cell_type": "code",
   "execution_count": 39,
   "id": "5559e104",
   "metadata": {},
   "outputs": [
    {
     "name": "stdout",
     "output_type": "stream",
     "text": [
      "🔥 Interactive graph saved to graph.html!\n"
     ]
    }
   ],
   "source": [
    "visualize_graph(G)"
   ]
  },
  {
   "cell_type": "markdown",
   "id": "c7448bb3",
   "metadata": {},
   "source": [
    "## ✅ Summary & Insights\n",
    "\n",
    "in this notebook, i built **FinGraph**, a financial knowledge graph, and analyzed systemic risk and contagion across companies:\n",
    "\n",
    "1. **graph construction:**  \n",
    "   companies and supply-chain relationships were represented as nodes and edges\n",
    "\n",
    "2. **network analysis:**  \n",
    "   centrality metrics identified systemically important companies, and community detection revealed clusters of related firms\n",
    "\n",
    "3. **contagion simulation:**  \n",
    "   simulated financial shocks propagated through the network from seed nodes (`TSLA` and `JPM`), producing **risk scores** for each company\n",
    "\n",
    "4. **visualization:**  \n",
    "   an interactive graph shows node risk via a **green → yellow → red** gradient, making it easy to identify vulnerable companies and hidden dependencies\n",
    "\n",
    "💡 **key takeaways:**  \n",
    "- `MSFT`, `TSLA`, and `JPM` are the highest-risk nodes in this network  \n",
    "- nodes like `AAPL` inherit moderate risk through their connections\n",
    "- companies with no direct exposure remain low-risk  \n",
    "\n",
    "this workflow demonstrates how **graph-based financial modeling** can provide actionable insights beyond traditional spreadsheet analysis, helping analysts detect systemic risk and sector contagion early"
   ]
  }
 ],
 "metadata": {
  "kernelspec": {
   "display_name": "venv",
   "language": "python",
   "name": "python3"
  },
  "language_info": {
   "codemirror_mode": {
    "name": "ipython",
    "version": 3
   },
   "file_extension": ".py",
   "mimetype": "text/x-python",
   "name": "python",
   "nbconvert_exporter": "python",
   "pygments_lexer": "ipython3",
   "version": "3.10.0"
  }
 },
 "nbformat": 4,
 "nbformat_minor": 5
}
